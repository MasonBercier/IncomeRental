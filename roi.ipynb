{
 "cells": [
  {
   "cell_type": "code",
   "execution_count": 54,
   "metadata": {},
   "outputs": [
    {
     "name": "stdout",
     "output_type": "stream",
     "text": [
      "Your monthly mortgage will be $910.67 with a downpayment of $40000.00\n"
     ]
    },
    {
     "data": {
      "text/plain": [
       "'Your return on investment will be 4.96 percent'"
      ]
     },
     "execution_count": 54,
     "metadata": {},
     "output_type": "execute_result"
    }
   ],
   "source": [
    "# four square method to see if rental property is worth buying\n",
    "# stary with income: rental income, and other(laundry storage misc)\n",
    "# rental income = number of units * rent price\n",
    "# total monthly income = rental income + other\n",
    "# now calculate expenses: tax, insurance, utilities(elect,water,sewer,garage,gas),hoa,vacancy,repairs,capex,prop manage,morgage.\n",
    "# tax = ~ 150, insureance = ~100, util = Yes/No, Hoa = Yes/No, vacant = 0.04 * rental income, repairs = 75 * number of units, capex = ~100\n",
    "# prop manag = Y/N 0.1 * rental income\n",
    "# mortgage calc = (price(200,000) - downpayment(price*0.2)) * interest * ((1+intrest)**months for loan) / (((1+intrest)**months for loan) - 1)\n",
    "# total monthly expenses = all expenses added up\n",
    "# next is cash flow = income - expenses\n",
    "# last is ROI\n",
    "# roi = anual cash flow / total investment * 100 + \"%\"\n",
    "# total investment = down payment(0.2 * price) + closing cost(0.02 * price) + repairs (0.035) + misc Y/N\n",
    "# anual cash flow = cash flow * 12\n",
    "class ROI_Cal():\n",
    "    def __init__(self):\n",
    "        self.roi = 0\n",
    "\n",
    "    def calcIncome(self):\n",
    "        #start with our manditory inputs followed by an optional one\n",
    "        self.propertyCost = int(input(\"How much is the property you'd like to purchase\"))\n",
    "        self.numUnits = int(input(\"How many units are on the property? \"))\n",
    "        self.rentPrice = int(input(\"How much is rent?\"))\n",
    "        rentChoice = input(\"Any other income from the property? (y/n)\")\n",
    "        if rentChoice == 'y':\n",
    "            self.otherIncome =  int(input(\"What is your other monthly income?\"))\n",
    "        else:\n",
    "            self.otherIncome = 0\n",
    "        # calculate rental income based on inputs   \n",
    "        self.rentalIncome = self.numUnits * self.rentPrice + self.otherIncome\n",
    "        return self.rentalIncome\n",
    "\n",
    "\n",
    "    # using percentages of numbers from previous inputs alows for more unseen calculations vs numberous input prompts \n",
    "    def calcExpenses(self):\n",
    "        self.tax = self.propertyCost * 0.00075\n",
    "        self.insurance = self.propertyCost * 0.0005\n",
    "        self.vacant = self.rentalIncome * 0.04\n",
    "        # repairs are more of a flat rate\n",
    "        # made sure to multiply for each unit as repairs will be seperate\n",
    "        self.repairs = 75 * self.numUnits\n",
    "        # things like roofs or exterior paint is more often done to all units together hence one flat rate for capex\n",
    "        self.capex = 100\n",
    "        # expenses that are more or less optional get a yes / no prompt but will calculate the cost again based on previous inputs\n",
    "        utilChoice = input(\"Will you pay utilities on the property? (y/n)\")\n",
    "        if utilChoice == 'y':\n",
    "            self.utilities = self.rentalIncome * 0.12\n",
    "        else:\n",
    "            self.utilities = 0\n",
    "        hoaChoice = input(\"Will you pay HOA fees on the property? (y/n)\")\n",
    "        if hoaChoice == 'y':\n",
    "            self.hoa = self.rentPrice * 0.00085\n",
    "        else:\n",
    "            self.hoa = 0\n",
    "        propManageChoice = input(\"Will you pay a propery manager for the property? (y/n)\")\n",
    "        if propManageChoice == 'y':\n",
    "            self.propManage = self.rentalIncome * 0.08\n",
    "        else:\n",
    "            self.propManage = 0\n",
    "        # calculating mortgae cost is just a few more slightly more complex equations\n",
    "        self.downPay = int(self.propertyCost * 0.2)\n",
    "        # chose a national average for interest rates\n",
    "        interest = 0.0683\n",
    "        # for example a 30 year loan * 12 to convert to months\n",
    "        loanTime = int(input(\"How many years is your loan for? \")) * 12\n",
    "        loanTotal = self.propertyCost - self.downPay\n",
    "        self.mortgage = loanTotal * (interest * (1+interest)**loanTime) / ((1+interest)**loanTime - 1) / 12\n",
    "        # finaly we calculate total expenses\n",
    "        self.rentalExpenses = self.tax + self.insurance + self.vacant + self.repairs + self.capex + self.utilities + self.hoa + self.propManage +self.mortgage\n",
    "        return self.rentalExpenses\n",
    "\n",
    "    def calcFlow(self):\n",
    "        # cash flow is equal to income - expenses\n",
    "        self.cashFlow = self.rentalIncome - self.rentalExpenses\n",
    "        return self.cashFlow\n",
    "    \n",
    "    def calcRoi(self):\n",
    "        # anual flow is simply monthly flow times 12\n",
    "        anualFlow = self.cashFlow * 12\n",
    "        #closing and rehab costs are generally percents of the property cost\n",
    "        closingCost = self.propertyCost * 0.02\n",
    "        rehabCost = self.propertyCost * 0.035\n",
    "        totalInvest = self.downPay + closingCost + rehabCost\n",
    "        #calculate total roi\n",
    "        self.roi = anualFlow / totalInvest * 10\n",
    "        # here we output the mortgage and expected down payment\n",
    "        print('Your monthly mortgage will be $%.2f with a downpayment of $%.2f' % (self.mortgage, self.downPay))\n",
    "        # finaly we output the return on investment\n",
    "        return \"Your return on investment will be %.2f percent\" % self.roi\n",
    "\n",
    "\n",
    "\n",
    "\n",
    "\n",
    "\n",
    "#had a lot of trouble making a runner since I want the code to all run together\n",
    "test = ROI_Cal()\n",
    "test.calcIncome()\n",
    "test.calcExpenses()\n",
    "test.calcFlow()\n",
    "test.calcRoi()\n"
   ]
  }
 ],
 "metadata": {
  "kernelspec": {
   "display_name": "Python 3",
   "language": "python",
   "name": "python3"
  },
  "language_info": {
   "codemirror_mode": {
    "name": "ipython",
    "version": 3
   },
   "file_extension": ".py",
   "mimetype": "text/x-python",
   "name": "python",
   "nbconvert_exporter": "python",
   "pygments_lexer": "ipython3",
   "version": "3.10.6"
  },
  "orig_nbformat": 4,
  "vscode": {
   "interpreter": {
    "hash": "47bf9465a07b57669b0e1d698703dd8dabb51977bd99a06702fb496f426eb3a3"
   }
  }
 },
 "nbformat": 4,
 "nbformat_minor": 2
}
